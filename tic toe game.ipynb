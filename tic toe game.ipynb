{
 "cells": [
  {
   "cell_type": "code",
   "execution_count": 1,
   "id": "e059a8c8-788c-4c34-92aa-f4786f372da6",
   "metadata": {},
   "outputs": [
    {
     "name": "stdout",
     "output_type": "stream",
     "text": [
      "---------\n",
      "|       |\n",
      "|       |\n",
      "|       |\n",
      "---------\n",
      "Player X, it's your turn.\n"
     ]
    },
    {
     "name": "stdin",
     "output_type": "stream",
     "text": [
      "Enter the row (0, 1, or 2):  1\n",
      "Enter the column (0, 1, or 2):  0\n"
     ]
    },
    {
     "name": "stdout",
     "output_type": "stream",
     "text": [
      "---------\n",
      "|       |\n",
      "| X     |\n",
      "|       |\n",
      "---------\n",
      "Player O, it's your turn.\n"
     ]
    },
    {
     "name": "stdin",
     "output_type": "stream",
     "text": [
      "Enter the row (0, 1, or 2):  2\n",
      "Enter the column (0, 1, or 2):  0\n"
     ]
    },
    {
     "name": "stdout",
     "output_type": "stream",
     "text": [
      "---------\n",
      "|       |\n",
      "| X     |\n",
      "| O     |\n",
      "---------\n",
      "Player X, it's your turn.\n"
     ]
    },
    {
     "name": "stdin",
     "output_type": "stream",
     "text": [
      "Enter the row (0, 1, or 2):  1\n",
      "Enter the column (0, 1, or 2):  1\n"
     ]
    },
    {
     "name": "stdout",
     "output_type": "stream",
     "text": [
      "---------\n",
      "|       |\n",
      "| X X   |\n",
      "| O     |\n",
      "---------\n",
      "Player O, it's your turn.\n"
     ]
    },
    {
     "name": "stdin",
     "output_type": "stream",
     "text": [
      "Enter the row (0, 1, or 2):  2\n",
      "Enter the column (0, 1, or 2):  2\n"
     ]
    },
    {
     "name": "stdout",
     "output_type": "stream",
     "text": [
      "---------\n",
      "|       |\n",
      "| X X   |\n",
      "| O   O |\n",
      "---------\n",
      "Player X, it's your turn.\n"
     ]
    },
    {
     "name": "stdin",
     "output_type": "stream",
     "text": [
      "Enter the row (0, 1, or 2):  0\n",
      "Enter the column (0, 1, or 2):  2\n"
     ]
    },
    {
     "name": "stdout",
     "output_type": "stream",
     "text": [
      "---------\n",
      "|     X |\n",
      "| X X   |\n",
      "| O   O |\n",
      "---------\n",
      "Player O, it's your turn.\n"
     ]
    },
    {
     "name": "stdin",
     "output_type": "stream",
     "text": [
      "Enter the row (0, 1, or 2):  0\n",
      "Enter the column (0, 1, or 2):  1\n"
     ]
    },
    {
     "name": "stdout",
     "output_type": "stream",
     "text": [
      "---------\n",
      "|   O X |\n",
      "| X X   |\n",
      "| O   O |\n",
      "---------\n",
      "Player X, it's your turn.\n"
     ]
    },
    {
     "name": "stdin",
     "output_type": "stream",
     "text": [
      "Enter the row (0, 1, or 2):  1\n",
      "Enter the column (0, 1, or 2):  2\n"
     ]
    },
    {
     "name": "stdout",
     "output_type": "stream",
     "text": [
      "---------\n",
      "|   O X |\n",
      "| X X X |\n",
      "| O   O |\n",
      "---------\n",
      "Player X wins!\n"
     ]
    }
   ],
   "source": [
    "def print_board(board):\n",
    "    print(\"---------\")\n",
    "    for row in board:\n",
    "        print(\"| \" + \" \".join(row) + \" |\")\n",
    "    print(\"---------\")\n",
    "\n",
    "def check_winner(board, player):\n",
    "    # Check rows, columns and diagonals\n",
    "    for i in range(3):\n",
    "        if all([cell == player for cell in board[i]]) or \\\n",
    "           all([board[j][i] == player for j in range(3)]):\n",
    "            return True\n",
    "\n",
    "    if board[0][0] == board[1][1] == board[2][2] == player or \\\n",
    "       board[0][2] == board[1][1] == board[2][0] == player:\n",
    "        return True\n",
    "\n",
    "    return False\n",
    "\n",
    "def is_board_full(board):\n",
    "    return all([cell != ' ' for row in board for cell in row])\n",
    "\n",
    "def tic_tac_toe():\n",
    "    board = [[' ' for _ in range(3)] for _ in range(3)]\n",
    "    current_player = 'X'\n",
    "\n",
    "    while True:\n",
    "        print_board(board)\n",
    "        print(f\"Player {current_player}, it's your turn.\")\n",
    "\n",
    "        while True:\n",
    "            try:\n",
    "                row = int(input(\"Enter the row (0, 1, or 2): \"))\n",
    "                col = int(input(\"Enter the column (0, 1, or 2): \"))\n",
    "                if board[row][col] == ' ':\n",
    "                    board[row][col] = current_player\n",
    "                    break\n",
    "                else:\n",
    "                    print(\"The cell is already occupied. Try again.\")\n",
    "            except (ValueError, IndexError):\n",
    "                print(\"Invalid input. Enter row and column as 0, 1, or 2.\")\n",
    "\n",
    "        if check_winner(board, current_player):\n",
    "            print_board(board)\n",
    "            print(f\"Player {current_player} wins!\")\n",
    "            break\n",
    "        elif is_board_full(board):\n",
    "            print_board(board)\n",
    "            print(\"It's a draw!\")\n",
    "            break\n",
    "\n",
    "        current_player = 'O' if current_player == 'X' else 'X'\n",
    "\n",
    "if __name__ == \"__main__\":\n",
    "    tic_tac_toe()\n",
    "\n"
   ]
  },
  {
   "cell_type": "code",
   "execution_count": null,
   "id": "ff190ddb-a63a-4c4a-b95e-5cd171facc96",
   "metadata": {},
   "outputs": [],
   "source": []
  }
 ],
 "metadata": {
  "kernelspec": {
   "display_name": "Python 3 (ipykernel)",
   "language": "python",
   "name": "python3"
  },
  "language_info": {
   "codemirror_mode": {
    "name": "ipython",
    "version": 3
   },
   "file_extension": ".py",
   "mimetype": "text/x-python",
   "name": "python",
   "nbconvert_exporter": "python",
   "pygments_lexer": "ipython3",
   "version": "3.12.4"
  }
 },
 "nbformat": 4,
 "nbformat_minor": 5
}
